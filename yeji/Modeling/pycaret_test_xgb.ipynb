{
 "cells": [
  {
   "cell_type": "markdown",
   "metadata": {
    "id": "DvEvjo50bUp6"
   },
   "source": [
    "## 테스트용 et"
   ]
  },
  {
   "cell_type": "code",
   "execution_count": null,
   "metadata": {
    "id": "DKmXyRi8fe45"
   },
   "outputs": [],
   "source": [
    "path_drive = './csv/'\n",
    "path = './'"
   ]
  },
  {
   "cell_type": "code",
   "execution_count": null,
   "metadata": {
    "id": "TtJ_U_Reefgr"
   },
   "outputs": [],
   "source": [
    "combined_clust_df = pd.read_csv(path_drive+'combined_clust_df.csv')\n",
    "test_df = pd.read_csv(path_drive + 'test_df.csv')"
   ]
  },
  {
   "cell_type": "markdown",
   "metadata": {
    "id": "80Mr0dYvbUqI"
   },
   "source": [
    "Cluster 0: ['건물기타', '대학교', '연구소', '할인마트']  \n",
    "Cluster 1: ['백화점및아울렛', '호텔및리조트']  \n",
    "Cluster 2: ['데이터센터', '아파트']  \n",
    "Cluster 3: ['공공', '병원', '상용', '지식산업센터']"
   ]
  },
  {
   "cell_type": "code",
   "execution_count": null,
   "metadata": {
    "id": "zsVBKJ3sbUqI"
   },
   "outputs": [],
   "source": [
    "clust_to_num = {0: [1, 3, 9, 11], 1: [5, 12], 2: [4, 8], 3: [2, 6, 7, 10]}"
   ]
  },
  {
   "cell_type": "code",
   "execution_count": null,
   "metadata": {
    "id": "cXAYCC2XYHwN"
   },
   "outputs": [],
   "source": [
    "model_type = 'et'"
   ]
  },
  {
   "cell_type": "markdown",
   "metadata": {
    "id": "6AnyXO3rbUqI"
   },
   "source": [
    "\n",
    "#### clust0"
   ]
  },
  {
   "cell_type": "code",
   "execution_count": null,
   "metadata": {
    "id": "YDcbA_RYYcj9"
   },
   "outputs": [],
   "source": [
    "selected_columns0 = ['전력소비량(kWh)',\n",
    " '연면적(m2)',\n",
    " '건물번호',\n",
    " '시간_cos',\n",
    " '연구소',\n",
    " 'holiday',\n",
    " '냉방면적(m2)',\n",
    " 'ESS저장용량(kWh)',\n",
    " '불쾌지수',\n",
    " '대학교',\n",
    " '시간',\n",
    " '시간_sin',\n",
    " '불쾌지수_이동평균3',\n",
    " '태양광용량(kW)',\n",
    " '월',\n",
    " '불쾌지수_이동평균5',\n",
    " '기온(C)',\n",
    " '요일',\n",
    " '일',\n",
    " '습도(%)',\n",
    " '풍속(m/s)',\n",
    " 'km_cluster']\n",
    "combined_clust_train_df = combined_clust_df[selected_columns0]\n",
    "\n",
    "clust0_train_df = combined_clust_train_df[combined_clust_train_df['km_cluster'] == 0].reset_index(drop=True)\n",
    "\n"
   ]
  },
  {
   "cell_type": "code",
   "execution_count": null,
   "metadata": {
    "id": "233wmldvCJcd"
   },
   "outputs": [],
   "source": [
    "# 훈련 데이터와 테스트 데이터로 분리\n",
    "X_train, X_test, y_train, y_test = train_test_split(clust0_train_df, clust0_train_df['전력소비량(kWh)'], test_size=0.2, random_state=42)\n",
    "\n",
    "# PyCaret 설정\n",
    "exp0 = setup(data=X_train.drop(columns=['km_cluster']), target='전력소비량(kWh)')\n",
    "\n",
    "# 최종 모델 생성\n",
    "et_model0 = create_model(model_type)\n",
    "final_et_model0 = finalize_model(et_model0)\n",
    "\n",
    "# 테스트 데이터 예측\n",
    "y_pred = predict_model(final_et_model0, data=X_test)\n",
    "\n",
    "# SMAPE 계산\n",
    "smape_score = smape_fnc(y_test, y_pred['prediction_label'])\n",
    "print(f\"SMAPE: {smape_score:.5f}\")"
   ]
  },
  {
   "cell_type": "markdown",
   "metadata": {
    "id": "vbAeAdjKczkb"
   },
   "source": [
    "xgboost test용"
   ]
  },
  {
   "cell_type": "code",
   "execution_count": null,
   "metadata": {
    "id": "Hp3Z7q2Vb3IP"
   },
   "outputs": [],
   "source": [
    "# Feature와 Target을 분리합니다.\n",
    "X = clust0_train_df.drop(columns=['전력소비량(kWh)'])\n",
    "y = clust0_train_df['전력소비량(kWh)']\n",
    "\n",
    "# Train과 Test 세트로 데이터를 분할합니다.\n",
    "X_train, X_test, y_train, y_test = train_test_split(X, y, test_size=0.2, random_state=42)\n",
    "\n",
    "# XGBoost 회귀 모델을 생성하고 학습합니다.\n",
    "xgb_model = XGBRegressor(n_estimators=100, learning_rate=0.1, random_state=42)\n",
    "xgb_model.fit(X_train, y_train)\n",
    "\n",
    "# 모델의 예측값을 생성합니다.\n",
    "y_pred = xgb_model.predict(X_test)\n",
    "\n",
    "# SMAPE를 계산하여 모델의 성능을 평가합니다.\n",
    "smape_score = smape_fnc(y_test, y_pred)\n",
    "print(f\"SMAPE: {smape_score:.5f}\")\n",
    "\n",
    "# 변수 중요도 계산\n",
    "feature_importances = xgb_model.feature_importances_\n",
    "\n",
    "# 변수명과 중요도를 데이터프레임으로 변환\n",
    "importance_df = pd.DataFrame({'Feature': X.columns, 'Importance': feature_importances})\n",
    "\n",
    "# 중요도 순으로 정렬\n",
    "importance_df = importance_df.sort_values(by='Importance', ascending=False)\n",
    "\n",
    "importance_df"
   ]
  },
  {
   "cell_type": "code",
   "execution_count": null,
   "metadata": {
    "id": "DJ04orb5cCcD"
   },
   "outputs": [],
   "source": [
    "# Feature와 Target을 분리합니다.\n",
    "X = clust0_train_df.drop(columns=['전력소비량(kWh)'])\n",
    "y = clust0_train_df['전력소비량(kWh)']\n",
    "\n",
    "# XGBoost 회귀 모델을 생성하고 학습합니다.\n",
    "xgb_model = XGBRegressor(n_estimators=100, learning_rate=0.1, random_state=42)\n",
    "xgb_model.fit(X, y)\n",
    "\n",
    "# 변수 중요도 계산\n",
    "feature_importances = xgb_model.feature_importances_\n",
    "\n",
    "# 변수명과 중요도를 데이터프레임으로 변환\n",
    "importance_df = pd.DataFrame({'Feature': X.columns, 'Importance': feature_importances})\n",
    "\n",
    "# 중요도 순으로 정렬\n",
    "importance_df = importance_df.sort_values(by='Importance', ascending=False)\n",
    "\n",
    "importance_df"
   ]
  },
  {
   "cell_type": "code",
   "execution_count": null,
   "metadata": {
    "id": "zC8MuqGFcHIu"
   },
   "outputs": [],
   "source": [
    "importance_df.Feature.tolist()"
   ]
  },
  {
   "cell_type": "markdown",
   "metadata": {
    "id": "UyNlinQhZSNQ"
   },
   "source": [
    "변수 3개 추가 / 제출용"
   ]
  },
  {
   "cell_type": "code",
   "execution_count": null,
   "metadata": {
    "id": "UiQqGyn3bUqJ"
   },
   "outputs": [],
   "source": [
    "selected_columns0 = ['전력소비량(kWh)',\n",
    " '연면적(m2)',\n",
    "  '연구소',\n",
    "  'work_time',\n",
    "  '건물번호',\n",
    "  'holiday',\n",
    "  'particular',\n",
    "  '냉방면적(m2)',\n",
    "  '시간_cos',\n",
    "  '대학교',\n",
    "  '불쾌지수',\n",
    "  'low_day',\n",
    "  '불쾌지수_이동평균3',\n",
    "  '시간',\n",
    "  '태양광용량(kW)',\n",
    "  'ESS저장용량(kWh)',\n",
    "  '월',\n",
    "  '불쾌지수_이동평균5',\n",
    "  '시간_sin',\n",
    "  '기온(C)',\n",
    "  '요일',\n",
    "  '일',\n",
    " 'km_cluster']\n",
    "combined_clust_train_df = combined_clust_df[selected_columns0]\n",
    "\n",
    "clust0_train_df = combined_clust_train_df[combined_clust_train_df['km_cluster'] == 0].reset_index(drop=True)\n",
    "\n"
   ]
  },
  {
   "cell_type": "code",
   "execution_count": null,
   "metadata": {
    "id": "sRtTNtLiYzqJ"
   },
   "outputs": [],
   "source": [
    "\n",
    "# pycaret 설정\n",
    "exp0 = setup(data=clust0_train_df.drop(columns=['km_cluster']), target='전력소비량(kWh)')\n",
    "\n",
    "# 기본 모델 생성\n",
    "et_model0 = create_model(model_type)\n",
    "\n",
    "# 최종 모델 생성\n",
    "final_et_model0 = finalize_model(et_model0)\n",
    "\n",
    "# 모델 저장\n",
    "save_model(final_et_model0, path+model_type+'0')\n",
    "\n",
    "\n"
   ]
  },
  {
   "cell_type": "markdown",
   "metadata": {
    "id": "GUrSYwE9bUqJ"
   },
   "source": [
    "#### clust1"
   ]
  },
  {
   "cell_type": "code",
   "execution_count": null,
   "metadata": {
    "id": "k2nZad3NYfUd"
   },
   "outputs": [],
   "source": [
    "selected_columns1 = ['전력소비량(kWh)',\n",
    " '시간_cos',\n",
    " '냉방면적(m2)',\n",
    " '시간',\n",
    " '연면적(m2)',\n",
    " '시간_sin',\n",
    " '건물번호',\n",
    " '불쾌지수_이동평균3',\n",
    " '월',\n",
    " '불쾌지수',\n",
    " 'holiday',\n",
    " '요일',\n",
    " '불쾌지수_이동평균5',\n",
    " '태양광용량(kW)',\n",
    " '일',\n",
    " 'km_cluster']\n",
    "combined_clust_train_df = combined_clust_df[selected_columns1]\n",
    "\n",
    "clust1_train_df = combined_clust_train_df[combined_clust_train_df['km_cluster'] == 1].reset_index(drop=True)\n",
    "\n"
   ]
  },
  {
   "cell_type": "code",
   "execution_count": null,
   "metadata": {
    "id": "oPj05KprCekd"
   },
   "outputs": [],
   "source": [
    "# 훈련 데이터와 테스트 데이터로 분리\n",
    "X_train, X_test, y_train, y_test = train_test_split(clust1_train_df, clust1_train_df['전력소비량(kWh)'], test_size=0.2, random_state=42)\n",
    "\n",
    "# PyCaret 설정\n",
    "exp0 = setup(data=X_train.drop(columns=['km_cluster']), target='전력소비량(kWh)')\n",
    "\n",
    "# 최종 모델 생성\n",
    "et_model0 = create_model(model_type)\n",
    "final_et_model0 = finalize_model(et_model0)\n",
    "\n",
    "# 테스트 데이터 예측\n",
    "y_pred = predict_model(final_et_model0, data=X_test)\n",
    "\n",
    "# SMAPE 계산\n",
    "smape_score = smape_fnc(y_test, y_pred['prediction_label'])\n",
    "print(f\"SMAPE: {smape_score:.5f}\")"
   ]
  },
  {
   "cell_type": "markdown",
   "metadata": {
    "id": "Saelf3f3c2UJ"
   },
   "source": [
    "xgboost test용"
   ]
  },
  {
   "cell_type": "code",
   "execution_count": null,
   "metadata": {
    "id": "pFmpv-LecIob"
   },
   "outputs": [],
   "source": [
    "# Feature와 Target을 분리합니다.\n",
    "X = clust1_train_df.drop(columns=['전력소비량(kWh)'])\n",
    "y = clust1_train_df['전력소비량(kWh)']\n",
    "\n",
    "# Train과 Test 세트로 데이터를 분할합니다.\n",
    "X_train, X_test, y_train, y_test = train_test_split(X, y, test_size=0.2, random_state=42)\n",
    "\n",
    "# XGBoost 회귀 모델을 생성하고 학습합니다.\n",
    "xgb_model = XGBRegressor(n_estimators=100, learning_rate=0.1, random_state=42)\n",
    "xgb_model.fit(X_train, y_train)\n",
    "\n",
    "# 모델의 예측값을 생성합니다.\n",
    "y_pred = xgb_model.predict(X_test)\n",
    "\n",
    "# SMAPE를 계산하여 모델의 성능을 평가합니다.\n",
    "smape_score = smape_fnc(y_test, y_pred)\n",
    "print(f\"SMAPE: {smape_score:.5f}\")"
   ]
  },
  {
   "cell_type": "code",
   "execution_count": null,
   "metadata": {
    "id": "Vqa8Di2WcMXS"
   },
   "outputs": [],
   "source": [
    "# 변수 중요도 계산\n",
    "feature_importances = xgb_model.feature_importances_\n",
    "\n",
    "# 변수명과 중요도를 데이터프레임으로 변환\n",
    "importance_df = pd.DataFrame({'Feature': X.columns, 'Importance': feature_importances})\n",
    "\n",
    "# 중요도 순으로 정렬\n",
    "importance_df = importance_df.sort_values(by='Importance', ascending=False)\n",
    "\n",
    "importance_df"
   ]
  },
  {
   "cell_type": "code",
   "execution_count": null,
   "metadata": {
    "id": "ENxXL8CXcRaZ"
   },
   "outputs": [],
   "source": [
    "importance_df.Feature.tolist()"
   ]
  },
  {
   "cell_type": "markdown",
   "metadata": {
    "id": "6tJoi5LuZV_8"
   },
   "source": [
    "변수 3개 추가 / 제출용"
   ]
  },
  {
   "cell_type": "code",
   "execution_count": null,
   "metadata": {
    "id": "NNRcuBWEbUqJ"
   },
   "outputs": [],
   "source": [
    "selected_columns1 = ['전력소비량(kWh)',\n",
    "'work_time', '연면적(m2)', '냉방면적(m2)', '시간', '건물번호', '시간_cos', '불쾌지수', '월', '기온(C)', 'holiday', '시간_sin', '불쾌지수_이동평균3', '요일', '불쾌지수_이동평균5', '일', '습도(%)',\n",
    " 'km_cluster']\n",
    "combined_clust_train_df = combined_clust_df[selected_columns1]\n",
    "\n",
    "clust1_train_df = combined_clust_train_df[combined_clust_train_df['km_cluster'] == 1].reset_index(drop=True)\n",
    "\n"
   ]
  },
  {
   "cell_type": "code",
   "execution_count": null,
   "metadata": {
    "id": "he3uot7VY7TI"
   },
   "outputs": [],
   "source": [
    "# pycaret 설정\n",
    "exp0 = setup(data=clust1_train_df.drop(columns=['km_cluster']), target='전력소비량(kWh)')\n",
    "\n",
    "# 기본 모델 생성\n",
    "et_model0 = create_model(model_type)\n",
    "\n",
    "# 최종 모델 생성\n",
    "final_et_model0 = finalize_model(et_model0)\n",
    "\n",
    "# 모델 저장\n",
    "save_model(final_et_model0, path+model_type+'1')"
   ]
  },
  {
   "cell_type": "markdown",
   "metadata": {
    "id": "kLXDJzzDUwwK"
   },
   "source": [
    "####clust2"
   ]
  },
  {
   "cell_type": "code",
   "execution_count": null,
   "metadata": {
    "id": "bpnsNDn7YhNH"
   },
   "outputs": [],
   "source": [
    "selected_columns2 = ['전력소비량(kWh)',\n",
    " '건물번호',\n",
    " '냉방면적(m2)',\n",
    " '불쾌지수_이동평균5',\n",
    " '연면적(m2)',\n",
    " '시간',\n",
    " '불쾌지수',\n",
    " '월',\n",
    " '시간_sin',\n",
    " '불쾌지수_이동평균3',\n",
    " 'holiday',\n",
    " '시간_cos',\n",
    " '일',\n",
    " '습도(%)',\n",
    " '요일',\n",
    " '기온(C)',\n",
    " '풍속(m/s)',\n",
    " 'km_cluster']\n",
    "combined_clust_train_df = combined_clust_df[selected_columns2]\n",
    "\n",
    "clust2_train_df = combined_clust_train_df[combined_clust_train_df['km_cluster'] == 2].reset_index(drop=True)\n"
   ]
  },
  {
   "cell_type": "code",
   "execution_count": null,
   "metadata": {
    "id": "vNzuuVNjCkrA"
   },
   "outputs": [],
   "source": [
    "# 훈련 데이터와 테스트 데이터로 분리\n",
    "X_train, X_test, y_train, y_test = train_test_split(clust2_train_df, clust2_train_df['전력소비량(kWh)'], test_size=0.2, random_state=42)\n",
    "\n",
    "# PyCaret 설정\n",
    "exp0 = setup(data=X_train.drop(columns=['km_cluster']), target='전력소비량(kWh)')\n",
    "\n",
    "# 최종 모델 생성\n",
    "et_model0 = create_model(model_type)\n",
    "final_et_model0 = finalize_model(et_model0)\n",
    "\n",
    "# 테스트 데이터 예측\n",
    "y_pred = predict_model(final_et_model0, data=X_test)\n",
    "\n",
    "# SMAPE 계산\n",
    "smape_score = smape_fnc(y_test, y_pred['prediction_label'])\n",
    "print(f\"SMAPE: {smape_score:.5f}\")"
   ]
  },
  {
   "cell_type": "markdown",
   "metadata": {
    "id": "XF2vnLZfc2_J"
   },
   "source": [
    "xgboost test용"
   ]
  },
  {
   "cell_type": "code",
   "execution_count": null,
   "metadata": {
    "id": "Pg-E4gOlcJX7"
   },
   "outputs": [],
   "source": [
    "# Feature와 Target을 분리합니다.\n",
    "X = clust2_train_df.drop(columns=['전력소비량(kWh)'])\n",
    "y = clust2_train_df['전력소비량(kWh)']\n",
    "\n",
    "# Train과 Test 세트로 데이터를 분할합니다.\n",
    "X_train, X_test, y_train, y_test = train_test_split(X, y, test_size=0.2, random_state=42)\n",
    "\n",
    "# XGBoost 회귀 모델을 생성하고 학습합니다.\n",
    "xgb_model = XGBRegressor(n_estimators=100, learning_rate=0.1, random_state=42)\n",
    "xgb_model.fit(X_train, y_train)\n",
    "\n",
    "# 모델의 예측값을 생성합니다.\n",
    "y_pred = xgb_model.predict(X_test)\n",
    "\n",
    "# SMAPE를 계산하여 모델의 성능을 평가합니다.\n",
    "smape_score = smape_fnc(y_test, y_pred)\n",
    "print(f\"SMAPE: {smape_score:.5f}\")"
   ]
  },
  {
   "cell_type": "code",
   "execution_count": null,
   "metadata": {
    "id": "qgZIMV0acNSd"
   },
   "outputs": [],
   "source": [
    "# 변수 중요도 계산\n",
    "feature_importances = xgb_model.feature_importances_\n",
    "\n",
    "# 변수명과 중요도를 데이터프레임으로 변환\n",
    "importance_df = pd.DataFrame({'Feature': X.columns, 'Importance': feature_importances})\n",
    "\n",
    "# 중요도 순으로 정렬\n",
    "importance_df = importance_df.sort_values(by='Importance', ascending=False)\n",
    "\n",
    "importance_df"
   ]
  },
  {
   "cell_type": "code",
   "execution_count": null,
   "metadata": {
    "id": "XZsRFdKIcSQP"
   },
   "outputs": [],
   "source": [
    "importance_df.Feature.tolist()"
   ]
  },
  {
   "cell_type": "markdown",
   "metadata": {
    "id": "LNtn2bvTZW1o"
   },
   "source": [
    "변수 3개 추가 / 제출용"
   ]
  },
  {
   "cell_type": "code",
   "execution_count": null,
   "metadata": {
    "id": "S9DBq8rNCJce"
   },
   "outputs": [],
   "source": [
    "selected_columns2 = ['전력소비량(kWh)',\n",
    " '건물번호',\n",
    " '냉방면적(m2)',\n",
    " '불쾌지수_이동평균5',\n",
    " '연면적(m2)',\n",
    " '시간',\n",
    " '불쾌지수',\n",
    " '월',\n",
    " '시간_sin',\n",
    " '불쾌지수_이동평균3',\n",
    " 'holiday',\n",
    " '시간_cos',\n",
    " '일',\n",
    " '습도(%)',\n",
    " '요일',\n",
    " '기온(C)',\n",
    " '풍속(m/s)',\n",
    " 'km_cluster']\n",
    "combined_clust_train_df = combined_clust_df[selected_columns2]\n",
    "\n",
    "clust2_train_df = combined_clust_train_df[combined_clust_train_df['km_cluster'] == 2].reset_index(drop=True)\n"
   ]
  },
  {
   "cell_type": "code",
   "execution_count": null,
   "metadata": {
    "id": "7HHzi4t6Y-qU"
   },
   "outputs": [],
   "source": [
    "# pycaret 설정\n",
    "exp0 = setup(data=clust2_train_df.drop(columns=['km_cluster']), target='전력소비량(kWh)')\n",
    "\n",
    "# 기본 모델 생성\n",
    "et_model0 = create_model(model_type)\n",
    "\n",
    "# 최종 모델 생성\n",
    "final_et_model0 = finalize_model(et_model0)\n",
    "\n",
    "# 모델 저장\n",
    "save_model(final_et_model0, path+model_type+'2')"
   ]
  },
  {
   "cell_type": "markdown",
   "metadata": {
    "id": "oBVSNrEHbUqK"
   },
   "source": [
    "#### clust3"
   ]
  },
  {
   "cell_type": "code",
   "execution_count": null,
   "metadata": {
    "id": "BFoVv4kVYjDk"
   },
   "outputs": [],
   "source": [
    "selected_columns3 = ['전력소비량(kWh)',\n",
    " '병원',\n",
    " '시간_cos',\n",
    " '연면적(m2)',\n",
    " 'holiday',\n",
    " '냉방면적(m2)',\n",
    " '건물번호',\n",
    " '태양광용량(kW)',\n",
    " 'ESS저장용량(kWh)',\n",
    " '불쾌지수',\n",
    " '시간_sin',\n",
    " '상용',\n",
    " '월',\n",
    " '불쾌지수_이동평균3',\n",
    " '시간',\n",
    " '불쾌지수_이동평균5',\n",
    " '요일',\n",
    " '기온(C)',\n",
    " '일',\n",
    " '습도(%)',\n",
    " 'km_cluster']\n",
    "combined_clust_train_df = combined_clust_df[selected_columns3]\n",
    "\n",
    "clust3_train_df = combined_clust_train_df[combined_clust_train_df['km_cluster'] == 3].reset_index(drop=True)\n",
    "\n"
   ]
  },
  {
   "cell_type": "markdown",
   "metadata": {
    "id": "BwpiNdfrc4BL"
   },
   "source": [
    "xgboost test용"
   ]
  },
  {
   "cell_type": "code",
   "execution_count": null,
   "metadata": {
    "id": "J7OiK4wdCpnE"
   },
   "outputs": [],
   "source": [
    "# 훈련 데이터와 테스트 데이터로 분리\n",
    "X_train, X_test, y_train, y_test = train_test_split(clust3_train_df, clust3_train_df['전력소비량(kWh)'], test_size=0.2, random_state=42)\n",
    "\n",
    "# PyCaret 설정\n",
    "exp0 = setup(data=X_train.drop(columns=['km_cluster']), target='전력소비량(kWh)')\n",
    "\n",
    "# 최종 모델 생성\n",
    "et_model0 = create_model(model_type)\n",
    "final_et_model0 = finalize_model(et_model0)\n",
    "\n",
    "# 테스트 데이터 예측\n",
    "y_pred = predict_model(final_et_model0, data=X_test)\n",
    "\n",
    "# SMAPE 계산\n",
    "smape_score = smape_fnc(y_test, y_pred['prediction_label'])\n",
    "print(f\"SMAPE: {smape_score:.5f}\")"
   ]
  },
  {
   "cell_type": "code",
   "execution_count": null,
   "metadata": {
    "id": "QtOh3e9BcKPI"
   },
   "outputs": [],
   "source": [
    "# Feature와 Target을 분리합니다.\n",
    "X = clust3_train_df.drop(columns=['전력소비량(kWh)'])\n",
    "y = clust3_train_df['전력소비량(kWh)']\n",
    "\n",
    "# Train과 Test 세트로 데이터를 분할합니다.\n",
    "X_train, X_test, y_train, y_test = train_test_split(X, y, test_size=0.2, random_state=42)\n",
    "\n",
    "# XGBoost 회귀 모델을 생성하고 학습합니다.\n",
    "xgb_model = XGBRegressor(n_estimators=100, learning_rate=0.1, random_state=42)\n",
    "xgb_model.fit(X_train, y_train)\n",
    "\n",
    "# 모델의 예측값을 생성합니다.\n",
    "y_pred = xgb_model.predict(X_test)\n",
    "\n",
    "# SMAPE를 계산하여 모델의 성능을 평가합니다.\n",
    "smape_score = smape_fnc(y_test, y_pred)\n",
    "print(f\"SMAPE: {smape_score:.5f}\")"
   ]
  },
  {
   "cell_type": "code",
   "execution_count": null,
   "metadata": {
    "id": "ZfuZmLTYcOGz"
   },
   "outputs": [],
   "source": [
    "# 변수 중요도 계산\n",
    "feature_importances = xgb_model.feature_importances_\n",
    "\n",
    "# 변수명과 중요도를 데이터프레임으로 변환\n",
    "importance_df = pd.DataFrame({'Feature': X.columns, 'Importance': feature_importances})\n",
    "\n",
    "# 중요도 순으로 정렬\n",
    "importance_df = importance_df.sort_values(by='Importance', ascending=False)\n",
    "\n",
    "importance_df"
   ]
  },
  {
   "cell_type": "code",
   "execution_count": null,
   "metadata": {
    "id": "hxv0i4_hcTDv"
   },
   "outputs": [],
   "source": [
    "importance_df.Feature.tolist()"
   ]
  },
  {
   "cell_type": "markdown",
   "metadata": {
    "id": "_OFz0OTgZXmS"
   },
   "source": [
    "변수 3개 추가 / 제출용"
   ]
  },
  {
   "cell_type": "code",
   "execution_count": null,
   "metadata": {
    "id": "oFFF1LtiCJce"
   },
   "outputs": [],
   "source": [
    "selected_columns3 = ['전력소비량(kWh)',\n",
    "'work_time',\n",
    " '연면적(m2)',\n",
    " '냉방면적(m2)',\n",
    " '시간',\n",
    " '건물번호',\n",
    " '시간_cos',\n",
    " '불쾌지수',\n",
    " '월',\n",
    " '기온(C)',\n",
    " 'holiday',\n",
    " '시간_sin',\n",
    " '불쾌지수_이동평균3',\n",
    " '요일',\n",
    " '불쾌지수_이동평균5',\n",
    " '일',\n",
    " '습도(%)',\n",
    " '풍속(m/s)',\n",
    " '태양광용량(kW)',\n",
    "'km_cluster']\n",
    "combined_clust_train_df = combined_clust_df[selected_columns3]\n",
    "\n",
    "clust3_train_df = combined_clust_train_df[combined_clust_train_df['km_cluster'] == 3].reset_index(drop=True)\n",
    "\n"
   ]
  },
  {
   "cell_type": "code",
   "execution_count": null,
   "metadata": {
    "id": "GIfpYAZaZBzi"
   },
   "outputs": [],
   "source": [
    "# pycaret 설정\n",
    "exp0 = setup(data=clust3_train_df.drop(columns=['km_cluster']), target='전력소비량(kWh)')\n",
    "\n",
    "# 기본 모델 생성\n",
    "et_model0 = create_model(model_type)\n",
    "\n",
    "# 최종 모델 생성\n",
    "final_et_model0 = finalize_model(et_model0)\n",
    "\n",
    "# 모델 저장\n",
    "save_model(final_et_model0, path+model_type+'3')"
   ]
  },
  {
   "cell_type": "markdown",
   "metadata": {
    "id": "30BaJaAxVCIO"
   },
   "source": [
    "###예측"
   ]
  },
  {
   "cell_type": "code",
   "execution_count": null,
   "metadata": {
    "id": "RdnPgKVeKdDV",
    "jupyter": {
     "source_hidden": true
    },
    "tags": []
   },
   "outputs": [],
   "source": [
    "selected_columns0.append('건물유형_라벨')\n",
    "selected_columns1.append('건물유형_라벨')\n",
    "selected_columns2.append('건물유형_라벨')\n",
    "selected_columns3.append('건물유형_라벨')\n",
    "\n",
    "rm_list = ['전력소비량(kWh)', 'km_cluster']\n",
    "for value in rm_list:\n",
    "    selected_columns0.remove(value)\n",
    "    selected_columns1.remove(value)\n",
    "    selected_columns2.remove(value)\n",
    "    selected_columns3.remove(value)\n",
    "\n",
    "\n",
    "test_df_list = [test_df[selected_columns0],test_df[selected_columns1],test_df[selected_columns2],test_df[selected_columns3]]"
   ]
  },
  {
   "cell_type": "code",
   "execution_count": null,
   "metadata": {
    "id": "G_Ud7U5SCJcg"
   },
   "outputs": [],
   "source": [
    "\n",
    "# 예측값을 저장할 컬럼\n",
    "test_df['answer'] = np.nan\n",
    "\n",
    "# 각 클러스터 모델에 대해 예측 수행\n",
    "for cluster, building_labels in clust_to_num.items():\n",
    "    # 해당 클러스터의 모델 불러오기\n",
    "    cluster_model = load_model( path+model_type++ str(cluster))\n",
    "\n",
    "    # 건물유형라벨이 해당 클러스터에 속하는 테스트 데이터 선택\n",
    "    cluster_test_data = test_df_list[cluster][test_df_list[cluster]['건물유형_라벨'].isin(building_labels)]\n",
    "    cluster_test_data = cluster_test_data.drop(columns=['건물유형_라벨'])\n",
    "    index_list = cluster_test_data.index.tolist()\n",
    "\n",
    "    # 불러온 모델로 예측 수행\n",
    "    predictions = predict_model(cluster_model, cluster_test_data)\n",
    "\n",
    "    # index_list와 predictions를 이용하여 데이터프레임 생성\n",
    "    answer_df = pd.DataFrame({'answer': predictions['prediction_label']}, index=index_list)\n",
    "\n",
    "    # 예측 결과를 원래 데이터프레임에 추가\n",
    "    test_df.loc[answer_df.index, 'answer'] = answer_df['answer']\n",
    "\n",
    "\n",
    "test_df"
   ]
  },
  {
   "cell_type": "markdown",
   "metadata": {
    "id": "iH4VkpvuiOO8"
   },
   "source": [
    "예측 데이터 저장"
   ]
  },
  {
   "cell_type": "code",
   "execution_count": null,
   "metadata": {
    "id": "bBR-k1S4KdDV"
   },
   "outputs": [],
   "source": [
    "sum(test_df['answer'].isna())"
   ]
  },
  {
   "cell_type": "code",
   "execution_count": null,
   "metadata": {
    "id": "E8Wg4SfaKdDW"
   },
   "outputs": [],
   "source": [
    "# 데이터 불러오기\n",
    "df = pd.read_csv(path_drive+'sample_submission.csv')\n",
    "\n",
    "df['answer'] = test_df['answer']\n",
    "df.to_csv(path+'submit.csv', index=False)"
   ]
  },
  {
   "cell_type": "code",
   "execution_count": null,
   "metadata": {
    "id": "aLqXDTUpsC1M"
   },
   "outputs": [],
   "source": [
    "len(df[df['answer']<0])"
   ]
  }
 ],
 "metadata": {
  "colab": {
   "provenance": [],
   "toc_visible": true
  },
  "kernelspec": {
   "display_name": "Python 3 (ipykernel)",
   "language": "python",
   "name": "python3"
  },
  "language_info": {
   "codemirror_mode": {
    "name": "ipython",
    "version": 3
   },
   "file_extension": ".py",
   "mimetype": "text/x-python",
   "name": "python",
   "nbconvert_exporter": "python",
   "pygments_lexer": "ipython3",
   "version": "3.9.7"
  },
  "toc": {
   "base_numbering": 1,
   "nav_menu": {},
   "number_sections": true,
   "sideBar": true,
   "skip_h1_title": false,
   "title_cell": "Table of Contents",
   "title_sidebar": "Contents",
   "toc_cell": false,
   "toc_position": {},
   "toc_section_display": true,
   "toc_window_display": false
  }
 },
 "nbformat": 4,
 "nbformat_minor": 1
}
